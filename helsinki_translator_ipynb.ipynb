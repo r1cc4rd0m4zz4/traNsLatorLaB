{
  "nbformat": 4,
  "nbformat_minor": 0,
  "metadata": {
    "colab": {
      "private_outputs": true,
      "provenance": [],
      "gpuType": "T4",
      "authorship_tag": "ABX9TyOjllBPdDUZ236DF1IWfyL3"
    },
    "kernelspec": {
      "name": "python3",
      "display_name": "Python 3"
    },
    "language_info": {
      "name": "python"
    },
    "accelerator": "GPU"
  },
  "cells": [
    {
      "cell_type": "markdown",
      "source": [
        "Questo notebook per Colaboratory di Google mostra come utilizzando i modelli di **Helsinki-NLP** per tradurre del testo"
      ],
      "metadata": {
        "id": "Xheftca1xjav"
      }
    },
    {
      "cell_type": "code",
      "execution_count": null,
      "metadata": {
        "id": "u2ZdIfRUnH8u"
      },
      "outputs": [],
      "source": [
        "!pip install transformers, fasttext\n",
        "!wget https://dl.fbaipublicfiles.com/nllb/lid/lid218e.bin"
      ]
    },
    {
      "cell_type": "markdown",
      "source": [
        "Iniziamo inserendo il testo da tradurre"
      ],
      "metadata": {
        "id": "aWybDQMnE8zg"
      }
    },
    {
      "cell_type": "code",
      "source": [
        "testo_src = input(\"Inserisci il testo da tradurre: \")"
      ],
      "metadata": {
        "id": "xU-7pnYsJcuz"
      },
      "execution_count": null,
      "outputs": []
    },
    {
      "cell_type": "markdown",
      "source": [
        "Infine inseriamo una o più parole nella lingua di testo per la traduzione"
      ],
      "metadata": {
        "id": "cT2Lanj7Jsbr"
      }
    },
    {
      "cell_type": "code",
      "source": [
        "testo_dst = input(\"Inserisci una o più parole nella lingua per la traduziobne, es. name: \")"
      ],
      "metadata": {
        "id": "86kDwT-oNDTZ"
      },
      "execution_count": null,
      "outputs": []
    },
    {
      "cell_type": "markdown",
      "source": [
        "Cominciamo a rilevare le lingue usate per la traduzione"
      ],
      "metadata": {
        "id": "uMzAVa__NTyd"
      }
    },
    {
      "cell_type": "code",
      "source": [
        "import fasttext\n",
        "\n",
        "plm = \"/content/lid218e.bin\"\n",
        "model = fasttext.load_model(plm)\n",
        "\n",
        "p = model.predict(testo_src, k=-1, threshold=0.5)\n",
        "input_lang = p[0][0].replace('__label__', '')\n",
        "print(\"Lingua sorgente: \" + input_lang)\n",
        "\n",
        "p = model.predict(testo_dst, k=-1, threshold=0.5)\n",
        "output_lang = p[0][0].replace('__label__', '')\n",
        "print(\"Lingua destinaizone: \" + output_lang)"
      ],
      "metadata": {
        "id": "wcJGYpQFNg3O"
      },
      "execution_count": null,
      "outputs": []
    }
  ]
}