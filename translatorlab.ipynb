{
  "cells": [
    {
      "cell_type": "markdown",
      "metadata": {
        "id": "qqFwTn5btORi"
      },
      "source": [
        "Questo notebook per Colaboratory di Google mostra come identificare la lingua di un testo e tradurla nella lingua desiderata utilizzando i modelli Facebook fasttext e No Language Left Behind (NLLB)"
      ]
    },
    {
      "cell_type": "code",
      "execution_count": null,
      "metadata": {
        "id": "bB7MHqPktORj"
      },
      "outputs": [],
      "source": [
        "!pip install fasttext\n",
        "\n",
        "!wget https://dl.fbaipublicfiles.com/nllb/lid/lid218e.bin\n",
        "# !wget https://dl.fbaipublicfiles.com/fasttext/supervised-models/lid.176.bin"
      ]
    },
    {
      "cell_type": "markdown",
      "metadata": {
        "id": "21zO8sqhtORl"
      },
      "source": [
        "Iniziamo a rilevare la lingua dell'input di testo"
      ]
    },
    {
      "cell_type": "code",
      "execution_count": null,
      "metadata": {
        "id": "vK_YrRahtORl"
      },
      "outputs": [],
      "source": [
        "testo = input(\"Inserisci il testo da riconoscere: \")"
      ]
    },
    {
      "cell_type": "code",
      "execution_count": null,
      "metadata": {
        "id": "mzHYXN2_tORl"
      },
      "outputs": [],
      "source": [
        "import fasttext\n",
        "\n",
        "plm = \"/content/lid218e.bin\"\n",
        "model = fasttext.load_model(plm)\n",
        "p = model.predict(testo, k=-1, threshold=0.5)\n",
        "input_lang = p[0][0].replace('__label__', '')\n",
        "print(input_lang)"
      ]
    },
    {
      "cell_type": "markdown",
      "metadata": {
        "id": "zDodNGYOtORm"
      },
      "source": [
        "Dopodiché, prendiamo il testo inserito e l'etichetta prevista e li diamo in pasto a NLLB, che traduce il testo dalla lingua originale alla lingua supportata da NLLB"
      ]
    },
    {
      "cell_type": "code",
      "source": [
        "!pip install transformers"
      ],
      "metadata": {
        "id": "7yVRe2tq5tvn"
      },
      "execution_count": null,
      "outputs": []
    },
    {
      "cell_type": "code",
      "source": [
        "model_name = 'facebook/nllb-200-distilled-600M'\n",
        "# model_name = 'facebook/nllb-200-1.3B'\n",
        "# model_name = 'facebook/nllb-200-3.3B'\n",
        "# model_name = 'facebook/nllb-200-distilled-1.3B'\n",
        "\n",
        "from transformers import AutoTokenizer, AutoModelForSeq2SeqLM, pipeline\n",
        "import torch\n",
        "\n",
        "if not torch.cuda.is_available():\n",
        "  print('WARNING: You may want to change the runtime to GPU for faster training!')\n",
        "  device = 'cpu'\n",
        "else:\n",
        "  device = 'cuda:0'\n",
        "\n",
        "model = AutoModelForSeq2SeqLM.from_pretrained(model_name).to(device)\n",
        "tokenizer = AutoTokenizer.from_pretrained(model_name)\n",
        "output_lang = 'eng_Latn'\n",
        "translation_pipeline = pipeline('translation',\n",
        "                                model=model,\n",
        "                                tokenizer=tokenizer,\n",
        "                                src_lang=input_lang,\n",
        "                                tgt_lang=output_lang,\n",
        "                                max_length = 400,\n",
        "                                device=device)\n",
        "output = translation_pipeline(testo)\n",
        "print(output[0]['translation_text'])"
      ],
      "metadata": {
        "id": "oQaLGdQn6BZo"
      },
      "execution_count": null,
      "outputs": []
    }
  ],
  "metadata": {
    "kernelspec": {
      "display_name": "Python 3",
      "name": "python3"
    },
    "language_info": {
      "codemirror_mode": {
        "name": "ipython",
        "version": 3
      },
      "file_extension": ".py",
      "mimetype": "text/x-python",
      "name": "python",
      "nbconvert_exporter": "python",
      "pygments_lexer": "ipython3",
      "version": "3.10.13"
    },
    "orig_nbformat": 4,
    "colab": {
      "provenance": [],
      "gpuType": "T4"
    },
    "accelerator": "GPU"
  },
  "nbformat": 4,
  "nbformat_minor": 0
}