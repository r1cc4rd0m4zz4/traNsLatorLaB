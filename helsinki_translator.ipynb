{
  "nbformat": 4,
  "nbformat_minor": 0,
  "metadata": {
    "colab": {
      "private_outputs": true,
      "provenance": [],
      "gpuType": "T4",
      "authorship_tag": "ABX9TyPWaw67mfD+DxFOafdcj8jh",
      "include_colab_link": true
    },
    "kernelspec": {
      "name": "python3",
      "display_name": "Python 3"
    },
    "language_info": {
      "name": "python"
    },
    "accelerator": "GPU"
  },
  "cells": [
    {
      "cell_type": "markdown",
      "metadata": {
        "id": "view-in-github",
        "colab_type": "text"
      },
      "source": [
        "<a href=\"https://colab.research.google.com/github/r1cc4rd0m4zz4/traNsLatorLaB/blob/master/helsinki_translator.ipynb\" target=\"_parent\"><img src=\"https://colab.research.google.com/assets/colab-badge.svg\" alt=\"Open In Colab\"/></a>"
      ]
    },
    {
      "cell_type": "markdown",
      "source": [
        "Questo notebook per Colaboratory di Google mostra come utilizzando i modelli di **Helsinki-NLP** per tradurre del testo"
      ],
      "metadata": {
        "id": "Xheftca1xjav"
      }
    },
    {
      "cell_type": "code",
      "execution_count": null,
      "metadata": {
        "id": "u2ZdIfRUnH8u"
      },
      "outputs": [],
      "source": [
        "!pip install transformers sentencepiece sacremoses fasttext\n",
        "\n",
        "import os\n",
        "if not os.path.isfile(\"/content/lid218e.bin\"):\n",
        "  !wget https://dl.fbaipublicfiles.com/nllb/lid/lid218e.bin"
      ]
    },
    {
      "cell_type": "markdown",
      "source": [
        "Iniziamo inserendo il testo da tradurre"
      ],
      "metadata": {
        "id": "aWybDQMnE8zg"
      }
    },
    {
      "cell_type": "code",
      "source": [
        "testo_src = input(\"Inserisci il testo da tradurre: \")"
      ],
      "metadata": {
        "id": "xU-7pnYsJcuz"
      },
      "execution_count": null,
      "outputs": []
    },
    {
      "cell_type": "markdown",
      "source": [
        "Infine inseriamo una o più parole nella lingua di testo per la traduzione"
      ],
      "metadata": {
        "id": "cT2Lanj7Jsbr"
      }
    },
    {
      "cell_type": "code",
      "source": [
        "testo_dst = input(\"Inserisci una o più parole nella lingua per la traduziobne, es. name: \")"
      ],
      "metadata": {
        "id": "86kDwT-oNDTZ"
      },
      "execution_count": null,
      "outputs": []
    },
    {
      "cell_type": "markdown",
      "source": [
        "Cominciamo a rilevare le lingue usate per la traduzione"
      ],
      "metadata": {
        "id": "uMzAVa__NTyd"
      }
    },
    {
      "cell_type": "code",
      "source": [
        "import fasttext\n",
        "\n",
        "plm = \"/content/lid218e.bin\"\n",
        "model = fasttext.load_model(plm)\n",
        "\n",
        "p = model.predict(testo_src, k=-1, threshold=0.5)\n",
        "input_lang = p[0][0].replace('__label__', '')\n",
        "print(\"Lingua sorgente: \" + input_lang)\n",
        "\n",
        "p = model.predict(testo_dst, k=-1, threshold=0.5)\n",
        "output_lang = p[0][0].replace('__label__', '')\n",
        "print(\"Lingua destinaizone: \" + output_lang)"
      ],
      "metadata": {
        "id": "wcJGYpQFNg3O"
      },
      "execution_count": null,
      "outputs": []
    },
    {
      "cell_type": "markdown",
      "source": [
        "Infine traduciamo il testo nella lingua desiderata"
      ],
      "metadata": {
        "id": "msuSqzWnP1LF"
      }
    },
    {
      "cell_type": "code",
      "source": [
        "from transformers import MarianTokenizer, MarianMTModel\n",
        "from typing import List\n",
        "src = input_lang[:2]\n",
        "trg = output_lang[:2]\n",
        "#model_name = f'Helsinki-NLP/opus-mt-{src}-{trg}'\n",
        "model_name = f'Helsinki-NLP/opus-mt-tc-big-{src}-{trg}'\n",
        "tokenizer = MarianTokenizer.from_pretrained(model_name)\n",
        "model = MarianMTModel.from_pretrained(model_name)\n",
        "batch = tokenizer.prepare_translation_batch(src_texts=[input_lang], return_tensors=\"pt\", padding=True)\n",
        "translated = model.generate(**batch)\n",
        "\n",
        "for t in translated:\n",
        "    print( tokenizer.decode(t, skip_special_tokens=True))"
      ],
      "metadata": {
        "id": "mWC8kvfSToXC"
      },
      "execution_count": null,
      "outputs": []
    }
  ]
}